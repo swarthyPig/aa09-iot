{
  "nbformat": 4,
  "nbformat_minor": 0,
  "metadata": {
    "colab": {
      "name": "iot_csv_aa09",
      "version": "0.3.2",
      "provenance": [],
      "collapsed_sections": [],
      "include_colab_link": true
    },
    "kernelspec": {
      "display_name": "Python 3",
      "language": "python",
      "name": "python3"
    }
  },
  "cells": [
    {
      "cell_type": "markdown",
      "metadata": {
        "id": "view-in-github",
        "colab_type": "text"
      },
      "source": [
        "<a href=\"https://colab.research.google.com/github/swarthyPig/aa09-iot/blob/master/iot_csv_aa09.ipynb\" target=\"_parent\"><img src=\"https://colab.research.google.com/assets/colab-badge.svg\" alt=\"Open In Colab\"/></a>"
      ]
    },
    {
      "metadata": {
        "id": "4RyKlSBw1DjY",
        "colab_type": "text"
      },
      "cell_type": "markdown",
      "source": [
        "### Pandas: Loading the remote csv file\n",
        "\n",
        "> [Pandas: Tutorial-reas_csv()](https://www.marsja.se/pandas-read-csv-tutorial-to-csv/amp/)"
      ]
    },
    {
      "metadata": {
        "id": "y8KjEOPg1Dja",
        "colab_type": "code",
        "colab": {}
      },
      "cell_type": "code",
      "source": [
        "import pandas as pd"
      ],
      "execution_count": 0,
      "outputs": []
    },
    {
      "metadata": {
        "id": "N4sYnKbu1Djg",
        "colab_type": "code",
        "colab": {}
      },
      "cell_type": "code",
      "source": [
        "# url=\"http://chaos.inje.ac.kr:3030/data/ppg5k.csv\"  # CORS powered express server!\n",
        "c=pd.read_csv('AA09_s1000.csv', index_col='date')"
      ],
      "execution_count": 0,
      "outputs": []
    },
    {
      "metadata": {
        "id": "MfB0c8tr1Djj",
        "colab_type": "code",
        "outputId": "758c1bd3-ae7d-45d5-f18c-2ea74c56f367",
        "colab": {
          "base_uri": "https://localhost:8080/",
          "height": 35
        }
      },
      "cell_type": "code",
      "source": [
        "c.shape"
      ],
      "execution_count": 3,
      "outputs": [
        {
          "output_type": "execute_result",
          "data": {
            "text/plain": [
              "(1000, 3)"
            ]
          },
          "metadata": {
            "tags": []
          },
          "execution_count": 3
        }
      ]
    },
    {
      "metadata": {
        "id": "Vl42LaRUrx89",
        "colab_type": "code",
        "outputId": "000d37b1-c771-4e97-cc35-2713729170e6",
        "colab": {
          "base_uri": "https://localhost:8080/",
          "height": 235
        }
      },
      "cell_type": "code",
      "source": [
        "c.tail()"
      ],
      "execution_count": 4,
      "outputs": [
        {
          "output_type": "execute_result",
          "data": {
            "text/html": [
              "<div>\n",
              "<style scoped>\n",
              "    .dataframe tbody tr th:only-of-type {\n",
              "        vertical-align: middle;\n",
              "    }\n",
              "\n",
              "    .dataframe tbody tr th {\n",
              "        vertical-align: top;\n",
              "    }\n",
              "\n",
              "    .dataframe thead th {\n",
              "        text-align: right;\n",
              "    }\n",
              "</style>\n",
              "<table border=\"1\" class=\"dataframe\">\n",
              "  <thead>\n",
              "    <tr style=\"text-align: right;\">\n",
              "      <th></th>\n",
              "      <th>temperature</th>\n",
              "      <th>humidity</th>\n",
              "      <th>luminosity</th>\n",
              "    </tr>\n",
              "    <tr>\n",
              "      <th>date</th>\n",
              "      <th></th>\n",
              "      <th></th>\n",
              "      <th></th>\n",
              "    </tr>\n",
              "  </thead>\n",
              "  <tbody>\n",
              "    <tr>\n",
              "      <th>2018-11-27 18:12:19.310</th>\n",
              "      <td>20.6</td>\n",
              "      <td>35.3</td>\n",
              "      <td>80</td>\n",
              "    </tr>\n",
              "    <tr>\n",
              "      <th>2018-11-27 18:12:17.032</th>\n",
              "      <td>20.6</td>\n",
              "      <td>35.3</td>\n",
              "      <td>80</td>\n",
              "    </tr>\n",
              "    <tr>\n",
              "      <th>2018-11-27 18:12:14.755</th>\n",
              "      <td>20.6</td>\n",
              "      <td>35.3</td>\n",
              "      <td>80</td>\n",
              "    </tr>\n",
              "    <tr>\n",
              "      <th>2018-11-27 18:12:12.475</th>\n",
              "      <td>20.6</td>\n",
              "      <td>35.3</td>\n",
              "      <td>80</td>\n",
              "    </tr>\n",
              "    <tr>\n",
              "      <th>2018-11-27 18:12:10.198</th>\n",
              "      <td>20.6</td>\n",
              "      <td>35.3</td>\n",
              "      <td>80</td>\n",
              "    </tr>\n",
              "  </tbody>\n",
              "</table>\n",
              "</div>"
            ],
            "text/plain": [
              "                         temperature  humidity  luminosity\n",
              "date                                                      \n",
              "2018-11-27 18:12:19.310         20.6      35.3          80\n",
              "2018-11-27 18:12:17.032         20.6      35.3          80\n",
              "2018-11-27 18:12:14.755         20.6      35.3          80\n",
              "2018-11-27 18:12:12.475         20.6      35.3          80\n",
              "2018-11-27 18:12:10.198         20.6      35.3          80"
            ]
          },
          "metadata": {
            "tags": []
          },
          "execution_count": 4
        }
      ]
    },
    {
      "metadata": {
        "id": "yN_dETvRsMZ2",
        "colab_type": "code",
        "outputId": "0b58cce8-4b9c-4154-f59e-6bfaed9d90ae",
        "colab": {
          "base_uri": "https://localhost:8080/",
          "height": 161
        }
      },
      "cell_type": "code",
      "source": [
        "c.info()"
      ],
      "execution_count": 5,
      "outputs": [
        {
          "output_type": "stream",
          "text": [
            "<class 'pandas.core.frame.DataFrame'>\n",
            "Index: 1000 entries, 2018-11-27 18:50:05.493 to 2018-11-27 18:12:10.198\n",
            "Data columns (total 3 columns):\n",
            "temperature    1000 non-null float64\n",
            "humidity       1000 non-null float64\n",
            "luminosity     1000 non-null int64\n",
            "dtypes: float64(2), int64(1)\n",
            "memory usage: 31.2+ KB\n"
          ],
          "name": "stdout"
        }
      ]
    },
    {
      "metadata": {
        "id": "rCMGqVrk1Djr",
        "colab_type": "code",
        "outputId": "031456b6-af20-45f0-a2c9-43e80277773b",
        "colab": {
          "base_uri": "https://localhost:8080/",
          "height": 235
        }
      },
      "cell_type": "code",
      "source": [
        "c.head()"
      ],
      "execution_count": 6,
      "outputs": [
        {
          "output_type": "execute_result",
          "data": {
            "text/html": [
              "<div>\n",
              "<style scoped>\n",
              "    .dataframe tbody tr th:only-of-type {\n",
              "        vertical-align: middle;\n",
              "    }\n",
              "\n",
              "    .dataframe tbody tr th {\n",
              "        vertical-align: top;\n",
              "    }\n",
              "\n",
              "    .dataframe thead th {\n",
              "        text-align: right;\n",
              "    }\n",
              "</style>\n",
              "<table border=\"1\" class=\"dataframe\">\n",
              "  <thead>\n",
              "    <tr style=\"text-align: right;\">\n",
              "      <th></th>\n",
              "      <th>temperature</th>\n",
              "      <th>humidity</th>\n",
              "      <th>luminosity</th>\n",
              "    </tr>\n",
              "    <tr>\n",
              "      <th>date</th>\n",
              "      <th></th>\n",
              "      <th></th>\n",
              "      <th></th>\n",
              "    </tr>\n",
              "  </thead>\n",
              "  <tbody>\n",
              "    <tr>\n",
              "      <th>2018-11-27 18:50:05.493</th>\n",
              "      <td>20.8</td>\n",
              "      <td>34.8</td>\n",
              "      <td>83</td>\n",
              "    </tr>\n",
              "    <tr>\n",
              "      <th>2018-11-27 18:50:03.216</th>\n",
              "      <td>20.8</td>\n",
              "      <td>34.8</td>\n",
              "      <td>83</td>\n",
              "    </tr>\n",
              "    <tr>\n",
              "      <th>2018-11-27 18:50:00.939</th>\n",
              "      <td>20.8</td>\n",
              "      <td>34.7</td>\n",
              "      <td>83</td>\n",
              "    </tr>\n",
              "    <tr>\n",
              "      <th>2018-11-27 18:49:58.662</th>\n",
              "      <td>20.8</td>\n",
              "      <td>34.7</td>\n",
              "      <td>84</td>\n",
              "    </tr>\n",
              "    <tr>\n",
              "      <th>2018-11-27 18:49:56.384</th>\n",
              "      <td>20.7</td>\n",
              "      <td>34.6</td>\n",
              "      <td>82</td>\n",
              "    </tr>\n",
              "  </tbody>\n",
              "</table>\n",
              "</div>"
            ],
            "text/plain": [
              "                         temperature  humidity  luminosity\n",
              "date                                                      \n",
              "2018-11-27 18:50:05.493         20.8      34.8          83\n",
              "2018-11-27 18:50:03.216         20.8      34.8          83\n",
              "2018-11-27 18:50:00.939         20.8      34.7          83\n",
              "2018-11-27 18:49:58.662         20.8      34.7          84\n",
              "2018-11-27 18:49:56.384         20.7      34.6          82"
            ]
          },
          "metadata": {
            "tags": []
          },
          "execution_count": 6
        }
      ]
    },
    {
      "metadata": {
        "id": "m8dQtyJa1Djw",
        "colab_type": "code",
        "outputId": "31d166c0-718d-4e3c-97f4-8d2343e1621d",
        "colab": {
          "base_uri": "https://localhost:8080/",
          "height": 161
        }
      },
      "cell_type": "code",
      "source": [
        "c.info()"
      ],
      "execution_count": 7,
      "outputs": [
        {
          "output_type": "stream",
          "text": [
            "<class 'pandas.core.frame.DataFrame'>\n",
            "Index: 1000 entries, 2018-11-27 18:50:05.493 to 2018-11-27 18:12:10.198\n",
            "Data columns (total 3 columns):\n",
            "temperature    1000 non-null float64\n",
            "humidity       1000 non-null float64\n",
            "luminosity     1000 non-null int64\n",
            "dtypes: float64(2), int64(1)\n",
            "memory usage: 31.2+ KB\n"
          ],
          "name": "stdout"
        }
      ]
    },
    {
      "metadata": {
        "id": "m3C8fjK_1Dj2",
        "colab_type": "code",
        "outputId": "053ce15b-83c3-4e7b-abdf-8162e4c04de0",
        "colab": {
          "base_uri": "https://localhost:8080/",
          "height": 235
        }
      },
      "cell_type": "code",
      "source": [
        "# another method to read csv \n",
        "c2=pd.read_csv('AA09_s1000.csv', index_col=0)\n",
        "c2.head()"
      ],
      "execution_count": 16,
      "outputs": [
        {
          "output_type": "execute_result",
          "data": {
            "text/html": [
              "<div>\n",
              "<style scoped>\n",
              "    .dataframe tbody tr th:only-of-type {\n",
              "        vertical-align: middle;\n",
              "    }\n",
              "\n",
              "    .dataframe tbody tr th {\n",
              "        vertical-align: top;\n",
              "    }\n",
              "\n",
              "    .dataframe thead th {\n",
              "        text-align: right;\n",
              "    }\n",
              "</style>\n",
              "<table border=\"1\" class=\"dataframe\">\n",
              "  <thead>\n",
              "    <tr style=\"text-align: right;\">\n",
              "      <th></th>\n",
              "      <th>temperature</th>\n",
              "      <th>humidity</th>\n",
              "      <th>luminosity</th>\n",
              "    </tr>\n",
              "    <tr>\n",
              "      <th>date</th>\n",
              "      <th></th>\n",
              "      <th></th>\n",
              "      <th></th>\n",
              "    </tr>\n",
              "  </thead>\n",
              "  <tbody>\n",
              "    <tr>\n",
              "      <th>2018-11-27 18:50:05.493</th>\n",
              "      <td>20.8</td>\n",
              "      <td>34.8</td>\n",
              "      <td>83</td>\n",
              "    </tr>\n",
              "    <tr>\n",
              "      <th>2018-11-27 18:50:03.216</th>\n",
              "      <td>20.8</td>\n",
              "      <td>34.8</td>\n",
              "      <td>83</td>\n",
              "    </tr>\n",
              "    <tr>\n",
              "      <th>2018-11-27 18:50:00.939</th>\n",
              "      <td>20.8</td>\n",
              "      <td>34.7</td>\n",
              "      <td>83</td>\n",
              "    </tr>\n",
              "    <tr>\n",
              "      <th>2018-11-27 18:49:58.662</th>\n",
              "      <td>20.8</td>\n",
              "      <td>34.7</td>\n",
              "      <td>84</td>\n",
              "    </tr>\n",
              "    <tr>\n",
              "      <th>2018-11-27 18:49:56.384</th>\n",
              "      <td>20.7</td>\n",
              "      <td>34.6</td>\n",
              "      <td>82</td>\n",
              "    </tr>\n",
              "  </tbody>\n",
              "</table>\n",
              "</div>"
            ],
            "text/plain": [
              "                         temperature  humidity  luminosity\n",
              "date                                                      \n",
              "2018-11-27 18:50:05.493         20.8      34.8          83\n",
              "2018-11-27 18:50:03.216         20.8      34.8          83\n",
              "2018-11-27 18:50:00.939         20.8      34.7          83\n",
              "2018-11-27 18:49:58.662         20.8      34.7          84\n",
              "2018-11-27 18:49:56.384         20.7      34.6          82"
            ]
          },
          "metadata": {
            "tags": []
          },
          "execution_count": 16
        }
      ]
    },
    {
      "metadata": {
        "id": "NbTuxzs81Dj7",
        "colab_type": "code",
        "colab": {}
      },
      "cell_type": "code",
      "source": [
        "# import matplotlib.pyplot as plt\n",
        "%matplotlib inline"
      ],
      "execution_count": 0,
      "outputs": []
    },
    {
      "metadata": {
        "id": "MyKp3iqT1Dj_",
        "colab_type": "code",
        "outputId": "0e2c3d44-b611-4277-e424-c20b357c4784",
        "colab": {
          "base_uri": "https://localhost:8080/",
          "height": 357
        }
      },
      "cell_type": "code",
      "source": [
        "c.plot(figsize=(12,5), title=\"DHT22 Sensor Data\")"
      ],
      "execution_count": 18,
      "outputs": [
        {
          "output_type": "execute_result",
          "data": {
            "text/plain": [
              "<matplotlib.axes._subplots.AxesSubplot at 0x7fe6b8f56eb8>"
            ]
          },
          "metadata": {
            "tags": []
          },
          "execution_count": 18
        },
        {
          "output_type": "display_data",
          "data": {
            "image/png": "[encoded data removed]",
            "text/plain": [
              "<matplotlib.figure.Figure at 0x7fe6b8f6a6d8>"
            ]
          },
          "metadata": {
            "tags": []
          }
        }
      ]
    },
    {
      "metadata": {
        "id": "4q83kwzv1DkF",
        "colab_type": "code",
        "outputId": "03efbd8d-87f5-4fa3-811d-a0bbcd71ebd8",
        "colab": {
          "base_uri": "https://localhost:8080/",
          "height": 357
        }
      },
      "cell_type": "code",
      "source": [
        "c[:1000].plot(figsize=(12,5), title=\"DHT22 Sensor Data\")"
      ],
      "execution_count": 19,
      "outputs": [
        {
          "output_type": "execute_result",
          "data": {
            "text/plain": [
              "<matplotlib.axes._subplots.AxesSubplot at 0x7fe6b8e82278>"
            ]
          },
          "metadata": {
            "tags": []
          },
          "execution_count": 19
        },
        {
          "output_type": "display_data",
          "data": {
            "image/png": "[encoded data removed]",
            "text/plain": [
              "<matplotlib.figure.Figure at 0x7fe6b8eb9e48>"
            ]
          },
          "metadata": {
            "tags": []
          }
        }
      ]
    },
    {
      "metadata": {
        "id": "0Mjp7Izv1DkK",
        "colab_type": "text"
      },
      "cell_type": "markdown",
      "source": [
        "### iot data\n",
        "> Sensor data from Arduino with CdS and DHT22\n",
        "\n",
        "- temperature\n",
        "- humidity\n",
        "- luminosity"
      ]
    },
    {
      "metadata": {
        "id": "JocMoJ3q1DkL",
        "colab_type": "code",
        "colab": {}
      },
      "cell_type": "code",
      "source": [
        "url='AA09_s1000.csv'\n",
        "iot=pd.read_csv(url, index_col='date')"
      ],
      "execution_count": 0,
      "outputs": []
    },
    {
      "metadata": {
        "id": "d-M3o1hI1DkQ",
        "colab_type": "code",
        "outputId": "adcf1569-ffca-40fe-a432-255f54e978ee",
        "colab": {
          "base_uri": "https://localhost:8080/",
          "height": 35
        }
      },
      "cell_type": "code",
      "source": [
        "iot.shape"
      ],
      "execution_count": 21,
      "outputs": [
        {
          "output_type": "execute_result",
          "data": {
            "text/plain": [
              "(1000, 3)"
            ]
          },
          "metadata": {
            "tags": []
          },
          "execution_count": 21
        }
      ]
    },
    {
      "metadata": {
        "id": "b5TKa9bX1DkV",
        "colab_type": "code",
        "outputId": "55d4d228-92f6-433c-eada-523185d1caac",
        "colab": {
          "base_uri": "https://localhost:8080/",
          "height": 235
        }
      },
      "cell_type": "code",
      "source": [
        "iot.head()"
      ],
      "execution_count": 24,
      "outputs": [
        {
          "output_type": "execute_result",
          "data": {
            "text/html": [
              "<div>\n",
              "<style scoped>\n",
              "    .dataframe tbody tr th:only-of-type {\n",
              "        vertical-align: middle;\n",
              "    }\n",
              "\n",
              "    .dataframe tbody tr th {\n",
              "        vertical-align: top;\n",
              "    }\n",
              "\n",
              "    .dataframe thead th {\n",
              "        text-align: right;\n",
              "    }\n",
              "</style>\n",
              "<table border=\"1\" class=\"dataframe\">\n",
              "  <thead>\n",
              "    <tr style=\"text-align: right;\">\n",
              "      <th></th>\n",
              "      <th>temperature</th>\n",
              "      <th>humidity</th>\n",
              "      <th>luminosity</th>\n",
              "    </tr>\n",
              "    <tr>\n",
              "      <th>date</th>\n",
              "      <th></th>\n",
              "      <th></th>\n",
              "      <th></th>\n",
              "    </tr>\n",
              "  </thead>\n",
              "  <tbody>\n",
              "    <tr>\n",
              "      <th>2018-11-27 18:50:05.493</th>\n",
              "      <td>20.8</td>\n",
              "      <td>34.8</td>\n",
              "      <td>83</td>\n",
              "    </tr>\n",
              "    <tr>\n",
              "      <th>2018-11-27 18:50:03.216</th>\n",
              "      <td>20.8</td>\n",
              "      <td>34.8</td>\n",
              "      <td>83</td>\n",
              "    </tr>\n",
              "    <tr>\n",
              "      <th>2018-11-27 18:50:00.939</th>\n",
              "      <td>20.8</td>\n",
              "      <td>34.7</td>\n",
              "      <td>83</td>\n",
              "    </tr>\n",
              "    <tr>\n",
              "      <th>2018-11-27 18:49:58.662</th>\n",
              "      <td>20.8</td>\n",
              "      <td>34.7</td>\n",
              "      <td>84</td>\n",
              "    </tr>\n",
              "    <tr>\n",
              "      <th>2018-11-27 18:49:56.384</th>\n",
              "      <td>20.7</td>\n",
              "      <td>34.6</td>\n",
              "      <td>82</td>\n",
              "    </tr>\n",
              "  </tbody>\n",
              "</table>\n",
              "</div>"
            ],
            "text/plain": [
              "                         temperature  humidity  luminosity\n",
              "date                                                      \n",
              "2018-11-27 18:50:05.493         20.8      34.8          83\n",
              "2018-11-27 18:50:03.216         20.8      34.8          83\n",
              "2018-11-27 18:50:00.939         20.8      34.7          83\n",
              "2018-11-27 18:49:58.662         20.8      34.7          84\n",
              "2018-11-27 18:49:56.384         20.7      34.6          82"
            ]
          },
          "metadata": {
            "tags": []
          },
          "execution_count": 24
        }
      ]
    },
    {
      "metadata": {
        "id": "CjyUNVTQ1Dkb",
        "colab_type": "code",
        "outputId": "d0d53852-483f-4698-eb73-c81a97befc6f",
        "colab": {
          "base_uri": "https://localhost:8080/",
          "height": 235
        }
      },
      "cell_type": "code",
      "source": [
        "iot.tail()"
      ],
      "execution_count": 25,
      "outputs": [
        {
          "output_type": "execute_result",
          "data": {
            "text/html": [
              "<div>\n",
              "<style scoped>\n",
              "    .dataframe tbody tr th:only-of-type {\n",
              "        vertical-align: middle;\n",
              "    }\n",
              "\n",
              "    .dataframe tbody tr th {\n",
              "        vertical-align: top;\n",
              "    }\n",
              "\n",
              "    .dataframe thead th {\n",
              "        text-align: right;\n",
              "    }\n",
              "</style>\n",
              "<table border=\"1\" class=\"dataframe\">\n",
              "  <thead>\n",
              "    <tr style=\"text-align: right;\">\n",
              "      <th></th>\n",
              "      <th>temperature</th>\n",
              "      <th>humidity</th>\n",
              "      <th>luminosity</th>\n",
              "    </tr>\n",
              "    <tr>\n",
              "      <th>date</th>\n",
              "      <th></th>\n",
              "      <th></th>\n",
              "      <th></th>\n",
              "    </tr>\n",
              "  </thead>\n",
              "  <tbody>\n",
              "    <tr>\n",
              "      <th>2018-11-27 18:12:19.310</th>\n",
              "      <td>20.6</td>\n",
              "      <td>35.3</td>\n",
              "      <td>80</td>\n",
              "    </tr>\n",
              "    <tr>\n",
              "      <th>2018-11-27 18:12:17.032</th>\n",
              "      <td>20.6</td>\n",
              "      <td>35.3</td>\n",
              "      <td>80</td>\n",
              "    </tr>\n",
              "    <tr>\n",
              "      <th>2018-11-27 18:12:14.755</th>\n",
              "      <td>20.6</td>\n",
              "      <td>35.3</td>\n",
              "      <td>80</td>\n",
              "    </tr>\n",
              "    <tr>\n",
              "      <th>2018-11-27 18:12:12.475</th>\n",
              "      <td>20.6</td>\n",
              "      <td>35.3</td>\n",
              "      <td>80</td>\n",
              "    </tr>\n",
              "    <tr>\n",
              "      <th>2018-11-27 18:12:10.198</th>\n",
              "      <td>20.6</td>\n",
              "      <td>35.3</td>\n",
              "      <td>80</td>\n",
              "    </tr>\n",
              "  </tbody>\n",
              "</table>\n",
              "</div>"
            ],
            "text/plain": [
              "                         temperature  humidity  luminosity\n",
              "date                                                      \n",
              "2018-11-27 18:12:19.310         20.6      35.3          80\n",
              "2018-11-27 18:12:17.032         20.6      35.3          80\n",
              "2018-11-27 18:12:14.755         20.6      35.3          80\n",
              "2018-11-27 18:12:12.475         20.6      35.3          80\n",
              "2018-11-27 18:12:10.198         20.6      35.3          80"
            ]
          },
          "metadata": {
            "tags": []
          },
          "execution_count": 25
        }
      ]
    },
    {
      "metadata": {
        "id": "o66Mb3tp1Dki",
        "colab_type": "code",
        "outputId": "6a91a778-586f-41f1-bb30-e39cc52be249",
        "colab": {
          "base_uri": "https://localhost:8080/",
          "height": 161
        }
      },
      "cell_type": "code",
      "source": [
        "iot.info()"
      ],
      "execution_count": 26,
      "outputs": [
        {
          "output_type": "stream",
          "text": [
            "<class 'pandas.core.frame.DataFrame'>\n",
            "Index: 1000 entries, 2018-11-27 18:50:05.493 to 2018-11-27 18:12:10.198\n",
            "Data columns (total 3 columns):\n",
            "temperature    1000 non-null float64\n",
            "humidity       1000 non-null float64\n",
            "luminosity     1000 non-null int64\n",
            "dtypes: float64(2), int64(1)\n",
            "memory usage: 31.2+ KB\n"
          ],
          "name": "stdout"
        }
      ]
    },
    {
      "metadata": {
        "id": "DrIb6pwx1Dkn",
        "colab_type": "text"
      },
      "cell_type": "markdown",
      "source": [
        "### Sort index by date"
      ]
    },
    {
      "metadata": {
        "id": "v3ujbMYb1Dkp",
        "colab_type": "code",
        "colab": {}
      },
      "cell_type": "code",
      "source": [
        "iot_s = iot.sort_index()"
      ],
      "execution_count": 0,
      "outputs": []
    },
    {
      "metadata": {
        "id": "OoKNtme61Dkt",
        "colab_type": "code",
        "outputId": "b55a0b4c-8aee-4091-f6c1-3ce7270d9078",
        "colab": {
          "base_uri": "https://localhost:8080/",
          "height": 235
        }
      },
      "cell_type": "code",
      "source": [
        "iot_s.head()"
      ],
      "execution_count": 28,
      "outputs": [
        {
          "output_type": "execute_result",
          "data": {
            "text/html": [
              "<div>\n",
              "<style scoped>\n",
              "    .dataframe tbody tr th:only-of-type {\n",
              "        vertical-align: middle;\n",
              "    }\n",
              "\n",
              "    .dataframe tbody tr th {\n",
              "        vertical-align: top;\n",
              "    }\n",
              "\n",
              "    .dataframe thead th {\n",
              "        text-align: right;\n",
              "    }\n",
              "</style>\n",
              "<table border=\"1\" class=\"dataframe\">\n",
              "  <thead>\n",
              "    <tr style=\"text-align: right;\">\n",
              "      <th></th>\n",
              "      <th>temperature</th>\n",
              "      <th>humidity</th>\n",
              "      <th>luminosity</th>\n",
              "    </tr>\n",
              "    <tr>\n",
              "      <th>date</th>\n",
              "      <th></th>\n",
              "      <th></th>\n",
              "      <th></th>\n",
              "    </tr>\n",
              "  </thead>\n",
              "  <tbody>\n",
              "    <tr>\n",
              "      <th>2018-11-27 18:12:10.198</th>\n",
              "      <td>20.6</td>\n",
              "      <td>35.3</td>\n",
              "      <td>80</td>\n",
              "    </tr>\n",
              "    <tr>\n",
              "      <th>2018-11-27 18:12:12.475</th>\n",
              "      <td>20.6</td>\n",
              "      <td>35.3</td>\n",
              "      <td>80</td>\n",
              "    </tr>\n",
              "    <tr>\n",
              "      <th>2018-11-27 18:12:14.755</th>\n",
              "      <td>20.6</td>\n",
              "      <td>35.3</td>\n",
              "      <td>80</td>\n",
              "    </tr>\n",
              "    <tr>\n",
              "      <th>2018-11-27 18:12:17.032</th>\n",
              "      <td>20.6</td>\n",
              "      <td>35.3</td>\n",
              "      <td>80</td>\n",
              "    </tr>\n",
              "    <tr>\n",
              "      <th>2018-11-27 18:12:19.310</th>\n",
              "      <td>20.6</td>\n",
              "      <td>35.3</td>\n",
              "      <td>80</td>\n",
              "    </tr>\n",
              "  </tbody>\n",
              "</table>\n",
              "</div>"
            ],
            "text/plain": [
              "                         temperature  humidity  luminosity\n",
              "date                                                      \n",
              "2018-11-27 18:12:10.198         20.6      35.3          80\n",
              "2018-11-27 18:12:12.475         20.6      35.3          80\n",
              "2018-11-27 18:12:14.755         20.6      35.3          80\n",
              "2018-11-27 18:12:17.032         20.6      35.3          80\n",
              "2018-11-27 18:12:19.310         20.6      35.3          80"
            ]
          },
          "metadata": {
            "tags": []
          },
          "execution_count": 28
        }
      ]
    },
    {
      "metadata": {
        "id": "ShvtLDxd1Dk0",
        "colab_type": "code",
        "outputId": "1f53acff-e012-4bed-cce6-11ae800489b7",
        "colab": {
          "base_uri": "https://localhost:8080/",
          "height": 396
        }
      },
      "cell_type": "code",
      "source": [
        "iot_s.plot(figsize=(12,6))"
      ],
      "execution_count": 29,
      "outputs": [
        {
          "output_type": "execute_result",
          "data": {
            "text/plain": [
              "<matplotlib.axes._subplots.AxesSubplot at 0x7fe6b8f1f0f0>"
            ]
          },
          "metadata": {
            "tags": []
          },
          "execution_count": 29
        },
        {
          "output_type": "display_data",
          "data": {
            "image/png": "[encoded data removed]",
            "text/plain": [
              "<matplotlib.figure.Figure at 0x7fe6b8edbc88>"
            ]
          },
          "metadata": {
            "tags": []
          }
        }
      ]
    },
    {
      "metadata": {
        "id": "NIrq0QfJ1Dk6",
        "colab_type": "code",
        "outputId": "0b17ddac-382d-4129-ff8c-0246e4553635",
        "colab": {
          "base_uri": "https://localhost:8080/",
          "height": 89
        }
      },
      "cell_type": "code",
      "source": [
        "iot_s.mean()"
      ],
      "execution_count": 30,
      "outputs": [
        {
          "output_type": "execute_result",
          "data": {
            "text/plain": [
              "temperature    20.6655\n",
              "humidity       34.8067\n",
              "luminosity     79.4260\n",
              "dtype: float64"
            ]
          },
          "metadata": {
            "tags": []
          },
          "execution_count": 30
        }
      ]
    },
    {
      "metadata": {
        "id": "T_NXwO3v1Dk-",
        "colab_type": "code",
        "outputId": "0e9e6bfa-f918-4bb6-b114-794c095011c4",
        "colab": {
          "base_uri": "https://localhost:8080/",
          "height": 397
        }
      },
      "cell_type": "code",
      "source": [
        "iot_s.mean().plot.bar(figsize=(10,5), title=\"iot data: temp, humi, lumi\")"
      ],
      "execution_count": 31,
      "outputs": [
        {
          "output_type": "execute_result",
          "data": {
            "text/plain": [
              "<matplotlib.axes._subplots.AxesSubplot at 0x7fe6b8de6940>"
            ]
          },
          "metadata": {
            "tags": []
          },
          "execution_count": 31
        },
        {
          "output_type": "display_data",
          "data": {
            "image/png": "[encoded data removed]",
            "text/plain": [
              "<matplotlib.figure.Figure at 0x7fe6b8d89cf8>"
            ]
          },
          "metadata": {
            "tags": []
          }
        }
      ]
    },
    {
      "metadata": {
        "id": "TYGSDEGP1DlE",
        "colab_type": "text"
      },
      "cell_type": "markdown",
      "source": [
        "## Plot the change of sensor data over various time spans.\n",
        "\n",
        "- resample the data at different frequency\n",
        "- time span: 60 sec, 1 hour, 1 day, 1 week"
      ]
    },
    {
      "metadata": {
        "id": "dPgcIFOP1DlF",
        "colab_type": "code",
        "outputId": "29f0f304-57ae-4b2d-d81c-52c5fa0be485",
        "colab": {
          "base_uri": "https://localhost:8080/",
          "height": 161
        }
      },
      "cell_type": "code",
      "source": [
        "iot_s.info()"
      ],
      "execution_count": 32,
      "outputs": [
        {
          "output_type": "stream",
          "text": [
            "<class 'pandas.core.frame.DataFrame'>\n",
            "Index: 1000 entries, 2018-11-27 18:12:10.198 to 2018-11-27 18:50:05.493\n",
            "Data columns (total 3 columns):\n",
            "temperature    1000 non-null float64\n",
            "humidity       1000 non-null float64\n",
            "luminosity     1000 non-null int64\n",
            "dtypes: float64(2), int64(1)\n",
            "memory usage: 31.2+ KB\n"
          ],
          "name": "stdout"
        }
      ]
    },
    {
      "metadata": {
        "id": "zr1RA5Ix1DlJ",
        "colab_type": "code",
        "outputId": "12e9d6df-00b0-4a71-dadb-f389b23c1211",
        "colab": {
          "base_uri": "https://localhost:8080/",
          "height": 35
        }
      },
      "cell_type": "code",
      "source": [
        "# type of index\n",
        "iot_s.index[0], type(iot_s.index[0])"
      ],
      "execution_count": 33,
      "outputs": [
        {
          "output_type": "execute_result",
          "data": {
            "text/plain": [
              "('2018-11-27 18:12:10.198', str)"
            ]
          },
          "metadata": {
            "tags": []
          },
          "execution_count": 33
        }
      ]
    },
    {
      "metadata": {
        "id": "2Tsb1Z9x1DlN",
        "colab_type": "code",
        "colab": {}
      },
      "cell_type": "code",
      "source": [
        "# Convert index to timestamp\n",
        "iot_s.index = pd.to_datetime(iot_s.index)"
      ],
      "execution_count": 0,
      "outputs": []
    },
    {
      "metadata": {
        "id": "9mAeysp31DlU",
        "colab_type": "code",
        "outputId": "ebedacfb-08f2-437e-a72a-17f22aa0a50b",
        "colab": {
          "base_uri": "https://localhost:8080/",
          "height": 161
        }
      },
      "cell_type": "code",
      "source": [
        "iot_s.info()"
      ],
      "execution_count": 35,
      "outputs": [
        {
          "output_type": "stream",
          "text": [
            "<class 'pandas.core.frame.DataFrame'>\n",
            "DatetimeIndex: 1000 entries, 2018-11-27 18:12:10.198000 to 2018-11-27 18:50:05.493000\n",
            "Data columns (total 3 columns):\n",
            "temperature    1000 non-null float64\n",
            "humidity       1000 non-null float64\n",
            "luminosity     1000 non-null int64\n",
            "dtypes: float64(2), int64(1)\n",
            "memory usage: 31.2 KB\n"
          ],
          "name": "stdout"
        }
      ]
    },
    {
      "metadata": {
        "id": "p0dZyoMy1DlY",
        "colab_type": "code",
        "outputId": "65cf642d-f63a-4784-cf01-0cbcfe1bbff2",
        "colab": {
          "base_uri": "https://localhost:8080/",
          "height": 1289
        }
      },
      "cell_type": "code",
      "source": [
        "iot_s.resample('60S').mean()  # 1 minute"
      ],
      "execution_count": 45,
      "outputs": [
        {
          "output_type": "execute_result",
          "data": {
            "text/html": [
              "<div>\n",
              "<style scoped>\n",
              "    .dataframe tbody tr th:only-of-type {\n",
              "        vertical-align: middle;\n",
              "    }\n",
              "\n",
              "    .dataframe tbody tr th {\n",
              "        vertical-align: top;\n",
              "    }\n",
              "\n",
              "    .dataframe thead th {\n",
              "        text-align: right;\n",
              "    }\n",
              "</style>\n",
              "<table border=\"1\" class=\"dataframe\">\n",
              "  <thead>\n",
              "    <tr style=\"text-align: right;\">\n",
              "      <th></th>\n",
              "      <th>temperature</th>\n",
              "      <th>humidity</th>\n",
              "      <th>luminosity</th>\n",
              "    </tr>\n",
              "    <tr>\n",
              "      <th>date</th>\n",
              "      <th></th>\n",
              "      <th></th>\n",
              "      <th></th>\n",
              "    </tr>\n",
              "  </thead>\n",
              "  <tbody>\n",
              "    <tr>\n",
              "      <th>2018-11-27 18:12:00</th>\n",
              "      <td>20.600000</td>\n",
              "      <td>35.204545</td>\n",
              "      <td>79.454545</td>\n",
              "    </tr>\n",
              "    <tr>\n",
              "      <th>2018-11-27 18:13:00</th>\n",
              "      <td>20.600000</td>\n",
              "      <td>34.981481</td>\n",
              "      <td>79.037037</td>\n",
              "    </tr>\n",
              "    <tr>\n",
              "      <th>2018-11-27 18:14:00</th>\n",
              "      <td>20.600000</td>\n",
              "      <td>34.942308</td>\n",
              "      <td>78.653846</td>\n",
              "    </tr>\n",
              "    <tr>\n",
              "      <th>2018-11-27 18:15:00</th>\n",
              "      <td>20.600000</td>\n",
              "      <td>34.876923</td>\n",
              "      <td>79.038462</td>\n",
              "    </tr>\n",
              "    <tr>\n",
              "      <th>2018-11-27 18:16:00</th>\n",
              "      <td>20.592593</td>\n",
              "      <td>34.974074</td>\n",
              "      <td>79.037037</td>\n",
              "    </tr>\n",
              "    <tr>\n",
              "      <th>2018-11-27 18:17:00</th>\n",
              "      <td>20.600000</td>\n",
              "      <td>35.046154</td>\n",
              "      <td>78.269231</td>\n",
              "    </tr>\n",
              "    <tr>\n",
              "      <th>2018-11-27 18:18:00</th>\n",
              "      <td>20.596154</td>\n",
              "      <td>34.992308</td>\n",
              "      <td>70.692308</td>\n",
              "    </tr>\n",
              "    <tr>\n",
              "      <th>2018-11-27 18:19:00</th>\n",
              "      <td>20.600000</td>\n",
              "      <td>34.981481</td>\n",
              "      <td>79.148148</td>\n",
              "    </tr>\n",
              "    <tr>\n",
              "      <th>2018-11-27 18:20:00</th>\n",
              "      <td>20.600000</td>\n",
              "      <td>35.026923</td>\n",
              "      <td>78.730769</td>\n",
              "    </tr>\n",
              "    <tr>\n",
              "      <th>2018-11-27 18:21:00</th>\n",
              "      <td>20.600000</td>\n",
              "      <td>35.030769</td>\n",
              "      <td>80.192308</td>\n",
              "    </tr>\n",
              "    <tr>\n",
              "      <th>2018-11-27 18:22:00</th>\n",
              "      <td>20.600000</td>\n",
              "      <td>34.922222</td>\n",
              "      <td>78.555556</td>\n",
              "    </tr>\n",
              "    <tr>\n",
              "      <th>2018-11-27 18:23:00</th>\n",
              "      <td>20.600000</td>\n",
              "      <td>34.865385</td>\n",
              "      <td>76.807692</td>\n",
              "    </tr>\n",
              "    <tr>\n",
              "      <th>2018-11-27 18:24:00</th>\n",
              "      <td>20.603846</td>\n",
              "      <td>34.807692</td>\n",
              "      <td>77.961538</td>\n",
              "    </tr>\n",
              "    <tr>\n",
              "      <th>2018-11-27 18:25:00</th>\n",
              "      <td>20.600000</td>\n",
              "      <td>34.544444</td>\n",
              "      <td>76.962963</td>\n",
              "    </tr>\n",
              "    <tr>\n",
              "      <th>2018-11-27 18:26:00</th>\n",
              "      <td>20.611538</td>\n",
              "      <td>34.419231</td>\n",
              "      <td>73.538462</td>\n",
              "    </tr>\n",
              "    <tr>\n",
              "      <th>2018-11-27 18:27:00</th>\n",
              "      <td>20.629630</td>\n",
              "      <td>34.570370</td>\n",
              "      <td>80.666667</td>\n",
              "    </tr>\n",
              "    <tr>\n",
              "      <th>2018-11-27 18:28:00</th>\n",
              "      <td>20.692308</td>\n",
              "      <td>34.726923</td>\n",
              "      <td>73.846154</td>\n",
              "    </tr>\n",
              "    <tr>\n",
              "      <th>2018-11-27 18:29:00</th>\n",
              "      <td>20.700000</td>\n",
              "      <td>34.850000</td>\n",
              "      <td>81.846154</td>\n",
              "    </tr>\n",
              "    <tr>\n",
              "      <th>2018-11-27 18:30:00</th>\n",
              "      <td>20.688889</td>\n",
              "      <td>34.914815</td>\n",
              "      <td>79.814815</td>\n",
              "    </tr>\n",
              "    <tr>\n",
              "      <th>2018-11-27 18:31:00</th>\n",
              "      <td>20.700000</td>\n",
              "      <td>34.588462</td>\n",
              "      <td>76.846154</td>\n",
              "    </tr>\n",
              "    <tr>\n",
              "      <th>2018-11-27 18:32:00</th>\n",
              "      <td>20.700000</td>\n",
              "      <td>34.669231</td>\n",
              "      <td>79.000000</td>\n",
              "    </tr>\n",
              "    <tr>\n",
              "      <th>2018-11-27 18:33:00</th>\n",
              "      <td>20.700000</td>\n",
              "      <td>34.859259</td>\n",
              "      <td>78.851852</td>\n",
              "    </tr>\n",
              "    <tr>\n",
              "      <th>2018-11-27 18:34:00</th>\n",
              "      <td>20.707692</td>\n",
              "      <td>34.746154</td>\n",
              "      <td>80.230769</td>\n",
              "    </tr>\n",
              "    <tr>\n",
              "      <th>2018-11-27 18:35:00</th>\n",
              "      <td>20.700000</td>\n",
              "      <td>34.446154</td>\n",
              "      <td>81.038462</td>\n",
              "    </tr>\n",
              "    <tr>\n",
              "      <th>2018-11-27 18:36:00</th>\n",
              "      <td>20.700000</td>\n",
              "      <td>34.692593</td>\n",
              "      <td>81.000000</td>\n",
              "    </tr>\n",
              "    <tr>\n",
              "      <th>2018-11-27 18:37:00</th>\n",
              "      <td>20.700000</td>\n",
              "      <td>34.669231</td>\n",
              "      <td>81.692308</td>\n",
              "    </tr>\n",
              "    <tr>\n",
              "      <th>2018-11-27 18:38:00</th>\n",
              "      <td>20.700000</td>\n",
              "      <td>34.903846</td>\n",
              "      <td>82.923077</td>\n",
              "    </tr>\n",
              "    <tr>\n",
              "      <th>2018-11-27 18:39:00</th>\n",
              "      <td>20.700000</td>\n",
              "      <td>34.933333</td>\n",
              "      <td>81.925926</td>\n",
              "    </tr>\n",
              "    <tr>\n",
              "      <th>2018-11-27 18:40:00</th>\n",
              "      <td>20.700000</td>\n",
              "      <td>34.769231</td>\n",
              "      <td>81.038462</td>\n",
              "    </tr>\n",
              "    <tr>\n",
              "      <th>2018-11-27 18:41:00</th>\n",
              "      <td>20.711538</td>\n",
              "      <td>34.973077</td>\n",
              "      <td>79.846154</td>\n",
              "    </tr>\n",
              "    <tr>\n",
              "      <th>2018-11-27 18:42:00</th>\n",
              "      <td>20.725926</td>\n",
              "      <td>34.766667</td>\n",
              "      <td>82.629630</td>\n",
              "    </tr>\n",
              "    <tr>\n",
              "      <th>2018-11-27 18:43:00</th>\n",
              "      <td>20.711538</td>\n",
              "      <td>34.523077</td>\n",
              "      <td>80.692308</td>\n",
              "    </tr>\n",
              "    <tr>\n",
              "      <th>2018-11-27 18:44:00</th>\n",
              "      <td>20.776923</td>\n",
              "      <td>34.596154</td>\n",
              "      <td>82.076923</td>\n",
              "    </tr>\n",
              "    <tr>\n",
              "      <th>2018-11-27 18:45:00</th>\n",
              "      <td>20.707407</td>\n",
              "      <td>34.570370</td>\n",
              "      <td>83.222222</td>\n",
              "    </tr>\n",
              "    <tr>\n",
              "      <th>2018-11-27 18:46:00</th>\n",
              "      <td>20.715385</td>\n",
              "      <td>34.930769</td>\n",
              "      <td>82.846154</td>\n",
              "    </tr>\n",
              "    <tr>\n",
              "      <th>2018-11-27 18:47:00</th>\n",
              "      <td>20.700000</td>\n",
              "      <td>34.619231</td>\n",
              "      <td>81.384615</td>\n",
              "    </tr>\n",
              "    <tr>\n",
              "      <th>2018-11-27 18:48:00</th>\n",
              "      <td>20.729630</td>\n",
              "      <td>34.974074</td>\n",
              "      <td>76.481481</td>\n",
              "    </tr>\n",
              "    <tr>\n",
              "      <th>2018-11-27 18:49:00</th>\n",
              "      <td>20.765385</td>\n",
              "      <td>34.803846</td>\n",
              "      <td>81.615385</td>\n",
              "    </tr>\n",
              "    <tr>\n",
              "      <th>2018-11-27 18:50:00</th>\n",
              "      <td>20.800000</td>\n",
              "      <td>34.766667</td>\n",
              "      <td>83.000000</td>\n",
              "    </tr>\n",
              "  </tbody>\n",
              "</table>\n",
              "</div>"
            ],
            "text/plain": [
              "                     temperature   humidity  luminosity\n",
              "date                                                   \n",
              "2018-11-27 18:12:00    20.600000  35.204545   79.454545\n",
              "2018-11-27 18:13:00    20.600000  34.981481   79.037037\n",
              "2018-11-27 18:14:00    20.600000  34.942308   78.653846\n",
              "2018-11-27 18:15:00    20.600000  34.876923   79.038462\n",
              "2018-11-27 18:16:00    20.592593  34.974074   79.037037\n",
              "2018-11-27 18:17:00    20.600000  35.046154   78.269231\n",
              "2018-11-27 18:18:00    20.596154  34.992308   70.692308\n",
              "2018-11-27 18:19:00    20.600000  34.981481   79.148148\n",
              "2018-11-27 18:20:00    20.600000  35.026923   78.730769\n",
              "2018-11-27 18:21:00    20.600000  35.030769   80.192308\n",
              "2018-11-27 18:22:00    20.600000  34.922222   78.555556\n",
              "2018-11-27 18:23:00    20.600000  34.865385   76.807692\n",
              "2018-11-27 18:24:00    20.603846  34.807692   77.961538\n",
              "2018-11-27 18:25:00    20.600000  34.544444   76.962963\n",
              "2018-11-27 18:26:00    20.611538  34.419231   73.538462\n",
              "2018-11-27 18:27:00    20.629630  34.570370   80.666667\n",
              "2018-11-27 18:28:00    20.692308  34.726923   73.846154\n",
              "2018-11-27 18:29:00    20.700000  34.850000   81.846154\n",
              "2018-11-27 18:30:00    20.688889  34.914815   79.814815\n",
              "2018-11-27 18:31:00    20.700000  34.588462   76.846154\n",
              "2018-11-27 18:32:00    20.700000  34.669231   79.000000\n",
              "2018-11-27 18:33:00    20.700000  34.859259   78.851852\n",
              "2018-11-27 18:34:00    20.707692  34.746154   80.230769\n",
              "2018-11-27 18:35:00    20.700000  34.446154   81.038462\n",
              "2018-11-27 18:36:00    20.700000  34.692593   81.000000\n",
              "2018-11-27 18:37:00    20.700000  34.669231   81.692308\n",
              "2018-11-27 18:38:00    20.700000  34.903846   82.923077\n",
              "2018-11-27 18:39:00    20.700000  34.933333   81.925926\n",
              "2018-11-27 18:40:00    20.700000  34.769231   81.038462\n",
              "2018-11-27 18:41:00    20.711538  34.973077   79.846154\n",
              "2018-11-27 18:42:00    20.725926  34.766667   82.629630\n",
              "2018-11-27 18:43:00    20.711538  34.523077   80.692308\n",
              "2018-11-27 18:44:00    20.776923  34.596154   82.076923\n",
              "2018-11-27 18:45:00    20.707407  34.570370   83.222222\n",
              "2018-11-27 18:46:00    20.715385  34.930769   82.846154\n",
              "2018-11-27 18:47:00    20.700000  34.619231   81.384615\n",
              "2018-11-27 18:48:00    20.729630  34.974074   76.481481\n",
              "2018-11-27 18:49:00    20.765385  34.803846   81.615385\n",
              "2018-11-27 18:50:00    20.800000  34.766667   83.000000"
            ]
          },
          "metadata": {
            "tags": []
          },
          "execution_count": 45
        }
      ]
    },
    {
      "metadata": {
        "id": "9YRCzidSCyEQ",
        "colab_type": "code",
        "colab": {
          "base_uri": "https://localhost:8080/",
          "height": 359
        },
        "outputId": "6227d417-1ec0-4bfc-84c1-6360a9a4d802"
      },
      "cell_type": "code",
      "source": [
        "iot_s.resample('300S').mean() # 5 minute"
      ],
      "execution_count": 46,
      "outputs": [
        {
          "output_type": "execute_result",
          "data": {
            "text/html": [
              "<div>\n",
              "<style scoped>\n",
              "    .dataframe tbody tr th:only-of-type {\n",
              "        vertical-align: middle;\n",
              "    }\n",
              "\n",
              "    .dataframe tbody tr th {\n",
              "        vertical-align: top;\n",
              "    }\n",
              "\n",
              "    .dataframe thead th {\n",
              "        text-align: right;\n",
              "    }\n",
              "</style>\n",
              "<table border=\"1\" class=\"dataframe\">\n",
              "  <thead>\n",
              "    <tr style=\"text-align: right;\">\n",
              "      <th></th>\n",
              "      <th>temperature</th>\n",
              "      <th>humidity</th>\n",
              "      <th>luminosity</th>\n",
              "    </tr>\n",
              "    <tr>\n",
              "      <th>date</th>\n",
              "      <th></th>\n",
              "      <th></th>\n",
              "      <th></th>\n",
              "    </tr>\n",
              "  </thead>\n",
              "  <tbody>\n",
              "    <tr>\n",
              "      <th>2018-11-27 18:10:00</th>\n",
              "      <td>20.600000</td>\n",
              "      <td>35.033333</td>\n",
              "      <td>79.026667</td>\n",
              "    </tr>\n",
              "    <tr>\n",
              "      <th>2018-11-27 18:15:00</th>\n",
              "      <td>20.597727</td>\n",
              "      <td>34.974242</td>\n",
              "      <td>77.265152</td>\n",
              "    </tr>\n",
              "    <tr>\n",
              "      <th>2018-11-27 18:20:00</th>\n",
              "      <td>20.600763</td>\n",
              "      <td>34.930534</td>\n",
              "      <td>78.450382</td>\n",
              "    </tr>\n",
              "    <tr>\n",
              "      <th>2018-11-27 18:25:00</th>\n",
              "      <td>20.646212</td>\n",
              "      <td>34.621212</td>\n",
              "      <td>77.393939</td>\n",
              "    </tr>\n",
              "    <tr>\n",
              "      <th>2018-11-27 18:30:00</th>\n",
              "      <td>20.699242</td>\n",
              "      <td>34.757576</td>\n",
              "      <td>78.954545</td>\n",
              "    </tr>\n",
              "    <tr>\n",
              "      <th>2018-11-27 18:35:00</th>\n",
              "      <td>20.700000</td>\n",
              "      <td>34.730303</td>\n",
              "      <td>81.712121</td>\n",
              "    </tr>\n",
              "    <tr>\n",
              "      <th>2018-11-27 18:40:00</th>\n",
              "      <td>20.725191</td>\n",
              "      <td>34.725954</td>\n",
              "      <td>81.267176</td>\n",
              "    </tr>\n",
              "    <tr>\n",
              "      <th>2018-11-27 18:45:00</th>\n",
              "      <td>20.723485</td>\n",
              "      <td>34.779545</td>\n",
              "      <td>81.090909</td>\n",
              "    </tr>\n",
              "    <tr>\n",
              "      <th>2018-11-27 18:50:00</th>\n",
              "      <td>20.800000</td>\n",
              "      <td>34.766667</td>\n",
              "      <td>83.000000</td>\n",
              "    </tr>\n",
              "  </tbody>\n",
              "</table>\n",
              "</div>"
            ],
            "text/plain": [
              "                     temperature   humidity  luminosity\n",
              "date                                                   \n",
              "2018-11-27 18:10:00    20.600000  35.033333   79.026667\n",
              "2018-11-27 18:15:00    20.597727  34.974242   77.265152\n",
              "2018-11-27 18:20:00    20.600763  34.930534   78.450382\n",
              "2018-11-27 18:25:00    20.646212  34.621212   77.393939\n",
              "2018-11-27 18:30:00    20.699242  34.757576   78.954545\n",
              "2018-11-27 18:35:00    20.700000  34.730303   81.712121\n",
              "2018-11-27 18:40:00    20.725191  34.725954   81.267176\n",
              "2018-11-27 18:45:00    20.723485  34.779545   81.090909\n",
              "2018-11-27 18:50:00    20.800000  34.766667   83.000000"
            ]
          },
          "metadata": {
            "tags": []
          },
          "execution_count": 46
        }
      ]
    },
    {
      "metadata": {
        "id": "Iixb3VLsC2oB",
        "colab_type": "code",
        "colab": {
          "base_uri": "https://localhost:8080/",
          "height": 235
        },
        "outputId": "07269eae-bc5c-4a23-94c3-abc111e2ea1a"
      },
      "cell_type": "code",
      "source": [
        "iot_s.resample('600S').mean() # 10 minute"
      ],
      "execution_count": 47,
      "outputs": [
        {
          "output_type": "execute_result",
          "data": {
            "text/html": [
              "<div>\n",
              "<style scoped>\n",
              "    .dataframe tbody tr th:only-of-type {\n",
              "        vertical-align: middle;\n",
              "    }\n",
              "\n",
              "    .dataframe tbody tr th {\n",
              "        vertical-align: top;\n",
              "    }\n",
              "\n",
              "    .dataframe thead th {\n",
              "        text-align: right;\n",
              "    }\n",
              "</style>\n",
              "<table border=\"1\" class=\"dataframe\">\n",
              "  <thead>\n",
              "    <tr style=\"text-align: right;\">\n",
              "      <th></th>\n",
              "      <th>temperature</th>\n",
              "      <th>humidity</th>\n",
              "      <th>luminosity</th>\n",
              "    </tr>\n",
              "    <tr>\n",
              "      <th>date</th>\n",
              "      <th></th>\n",
              "      <th></th>\n",
              "      <th></th>\n",
              "    </tr>\n",
              "  </thead>\n",
              "  <tbody>\n",
              "    <tr>\n",
              "      <th>2018-11-27 18:10:00</th>\n",
              "      <td>20.598551</td>\n",
              "      <td>34.995652</td>\n",
              "      <td>77.903382</td>\n",
              "    </tr>\n",
              "    <tr>\n",
              "      <th>2018-11-27 18:20:00</th>\n",
              "      <td>20.623574</td>\n",
              "      <td>34.775285</td>\n",
              "      <td>77.920152</td>\n",
              "    </tr>\n",
              "    <tr>\n",
              "      <th>2018-11-27 18:30:00</th>\n",
              "      <td>20.699621</td>\n",
              "      <td>34.743939</td>\n",
              "      <td>80.333333</td>\n",
              "    </tr>\n",
              "    <tr>\n",
              "      <th>2018-11-27 18:40:00</th>\n",
              "      <td>20.724335</td>\n",
              "      <td>34.752852</td>\n",
              "      <td>81.178707</td>\n",
              "    </tr>\n",
              "    <tr>\n",
              "      <th>2018-11-27 18:50:00</th>\n",
              "      <td>20.800000</td>\n",
              "      <td>34.766667</td>\n",
              "      <td>83.000000</td>\n",
              "    </tr>\n",
              "  </tbody>\n",
              "</table>\n",
              "</div>"
            ],
            "text/plain": [
              "                     temperature   humidity  luminosity\n",
              "date                                                   \n",
              "2018-11-27 18:10:00    20.598551  34.995652   77.903382\n",
              "2018-11-27 18:20:00    20.623574  34.775285   77.920152\n",
              "2018-11-27 18:30:00    20.699621  34.743939   80.333333\n",
              "2018-11-27 18:40:00    20.724335  34.752852   81.178707\n",
              "2018-11-27 18:50:00    20.800000  34.766667   83.000000"
            ]
          },
          "metadata": {
            "tags": []
          },
          "execution_count": 47
        }
      ]
    },
    {
      "metadata": {
        "id": "WnHgMNbeCx9I",
        "colab_type": "code",
        "colab": {
          "base_uri": "https://localhost:8080/",
          "height": 417
        },
        "outputId": "2f76e0d1-c5c8-4c90-b006-2d99ac4cc426"
      },
      "cell_type": "code",
      "source": [
        "iot_s.resample('60S').mean().plot(figsize=(12,6), title='Hourly change of temp, humi, and lumi', \n",
        "                                ylim=[0,90])  # 1 minute"
      ],
      "execution_count": 50,
      "outputs": [
        {
          "output_type": "execute_result",
          "data": {
            "text/plain": [
              "<matplotlib.axes._subplots.AxesSubplot at 0x7fe6b8ce2208>"
            ]
          },
          "metadata": {
            "tags": []
          },
          "execution_count": 50
        },
        {
          "output_type": "display_data",
          "data": {
            "image/png": "[encoded data removed]",
            "text/plain": [
              "<matplotlib.figure.Figure at 0x7fe6b8cc4e10>"
            ]
          },
          "metadata": {
            "tags": []
          }
        }
      ]
    },
    {
      "metadata": {
        "id": "i3BiiT-L1Dle",
        "colab_type": "code",
        "outputId": "42316b13-35f7-4a0d-a189-32a4bd1deb43",
        "colab": {
          "base_uri": "https://localhost:8080/",
          "height": 417
        }
      },
      "cell_type": "code",
      "source": [
        "iot_s.resample('300S').mean().plot(figsize=(12,6), title='Hourly change of temp, humi, and lumi', \n",
        "                                ylim=[0,90])  # 5 minute"
      ],
      "execution_count": 51,
      "outputs": [
        {
          "output_type": "execute_result",
          "data": {
            "text/plain": [
              "<matplotlib.axes._subplots.AxesSubplot at 0x7fe6b8cc4a20>"
            ]
          },
          "metadata": {
            "tags": []
          },
          "execution_count": 51
        },
        {
          "output_type": "display_data",
          "data": {
            "image/png": "[encoded data removed]",
            "text/plain": [
              "<matplotlib.figure.Figure at 0x7fe6b8bfecf8>"
            ]
          },
          "metadata": {
            "tags": []
          }
        }
      ]
    },
    {
      "metadata": {
        "id": "PS-cLAfmDux4",
        "colab_type": "code",
        "colab": {
          "base_uri": "https://localhost:8080/",
          "height": 417
        },
        "outputId": "22bc6f9b-ba9d-4e93-aa00-952e6d8b36ad"
      },
      "cell_type": "code",
      "source": [
        "iot_s.resample('600S').mean().plot(figsize=(12,6), title='Hourly change of temp, humi, and lumi', \n",
        "                                ylim=[0,90])  # 10 minute"
      ],
      "execution_count": 52,
      "outputs": [
        {
          "output_type": "execute_result",
          "data": {
            "text/plain": [
              "<matplotlib.axes._subplots.AxesSubplot at 0x7fe6b8bcbcf8>"
            ]
          },
          "metadata": {
            "tags": []
          },
          "execution_count": 52
        },
        {
          "output_type": "display_data",
          "data": {
            "image/png": "[encoded data removed]",
            "text/plain": [
              "<matplotlib.figure.Figure at 0x7fe6b8bb44a8>"
            ]
          },
          "metadata": {
            "tags": []
          }
        }
      ]
    },
    {
      "metadata": {
        "id": "1Na-aiX31Dli",
        "colab_type": "code",
        "outputId": "93444b53-ab70-43f0-f5d0-5732defbaa05",
        "colab": {
          "base_uri": "https://localhost:8080/",
          "height": 417
        }
      },
      "cell_type": "code",
      "source": [
        "iot_s.resample('60S').mean().plot(kind='line', marker='o', ms=10, figsize=(12,6), title='1 minute change of temperature, humidity, and luminosity')"
      ],
      "execution_count": 53,
      "outputs": [
        {
          "output_type": "execute_result",
          "data": {
            "text/plain": [
              "<matplotlib.axes._subplots.AxesSubplot at 0x7fe6b8b655c0>"
            ]
          },
          "metadata": {
            "tags": []
          },
          "execution_count": 53
        },
        {
          "output_type": "display_data",
          "data": {
            "image/png": "[encoded data removed]",
            "text/plain": [
              "<matplotlib.figure.Figure at 0x7fe6b911d518>"
            ]
          },
          "metadata": {
            "tags": []
          }
        }
      ]
    },
    {
      "metadata": {
        "id": "pRV4MGMKEIVw",
        "colab_type": "code",
        "colab": {
          "base_uri": "https://localhost:8080/",
          "height": 417
        },
        "outputId": "a17141de-c30a-45cf-d06f-dbee1e476931"
      },
      "cell_type": "code",
      "source": [
        "iot_s.resample('300S').mean().plot(kind='line', marker='o', ms=10, figsize=(12,6), title='5 minute change of temperature, humidity, and luminosity')"
      ],
      "execution_count": 54,
      "outputs": [
        {
          "output_type": "execute_result",
          "data": {
            "text/plain": [
              "<matplotlib.axes._subplots.AxesSubplot at 0x7fe6b8aeb4a8>"
            ]
          },
          "metadata": {
            "tags": []
          },
          "execution_count": 54
        },
        {
          "output_type": "display_data",
          "data": {
            "image/png": "[encoded data removed]",
            "text/plain": [
              "<matplotlib.figure.Figure at 0x7fe6b8aab780>"
            ]
          },
          "metadata": {
            "tags": []
          }
        }
      ]
    },
    {
      "metadata": {
        "id": "274onJR8EKDI",
        "colab_type": "code",
        "colab": {
          "base_uri": "https://localhost:8080/",
          "height": 417
        },
        "outputId": "fada172b-1db8-4121-bb05-ccab737a5d62"
      },
      "cell_type": "code",
      "source": [
        "iot_s.resample('600S').mean().plot(kind='line', marker='o', ms=10, figsize=(12,6), title='10 minute change of temperature, humidity, and luminosity')"
      ],
      "execution_count": 55,
      "outputs": [
        {
          "output_type": "execute_result",
          "data": {
            "text/plain": [
              "<matplotlib.axes._subplots.AxesSubplot at 0x7fe6b8a65668>"
            ]
          },
          "metadata": {
            "tags": []
          },
          "execution_count": 55
        },
        {
          "output_type": "display_data",
          "data": {
            "image/png": "[encoded data removed]",
            "text/plain": [
              "<matplotlib.figure.Figure at 0x7fe6b89f7358>"
            ]
          },
          "metadata": {
            "tags": []
          }
        }
      ]
    },
    {
      "metadata": {
        "id": "zNs608SE3PxR",
        "colab_type": "text"
      },
      "cell_type": "markdown",
      "source": [
        "\n",
        "\n",
        "---\n",
        "\n"
      ]
    },
    {
      "metadata": {
        "id": "bSJOj1mh1Dl0",
        "colab_type": "code",
        "colab": {}
      },
      "cell_type": "code",
      "source": [
        ""
      ],
      "execution_count": 0,
      "outputs": []
    }
  ]
}